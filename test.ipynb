{
 "cells": [
  {
   "cell_type": "code",
   "execution_count": 1,
   "metadata": {},
   "outputs": [],
   "source": [
    "from poe_api_wrapper import PoeApi\n",
    "import json\n",
    "import time\n",
    "\n",
    "bot_gemini = \"gemini_pro\"   # Gemini-Pro\n",
    "bot_gpt35 = \"gpt3_5\"    # GPT-3.5-Turbo\n",
    "bot_gpt4 = \"beaver\"     # GPT-4\n",
    "bot_mistral_l = \"mistral_large\" # Mistral-Large\n",
    "\n",
    "\n",
    "# ============================================================\n",
    "bot = bot_gemini\n",
    "token = \"ZvnG3wYA-dzRmM3cJMi9zA%3D%3D\"\n",
    "prompt_file = \"prompt_KPQA_StaffMCMore_v2_S2_Agreement_vicuna-13b-v1.5-16k.json\"\n",
    "output_file = \"output_KPQA_StaffMCMore_v2_S2_Agreement_vicuna-13b-v1.5-16k.json\"\n",
    "# ============================================================\n"
   ]
  },
  {
   "cell_type": "code",
   "execution_count": 2,
   "metadata": {},
   "outputs": [],
   "source": [
    "# set the prompts\n",
    "with open(prompt_file) as f:\n",
    "    data = json.load(f)\n",
    "ids = [p['id'] for p in data]\n",
    "prompts = [p['prompt'] for p in data]\n",
    "\n",
    "# initialize the client\n",
    "client = PoeApi(token)\n",
    "counter = 0\n",
    "outputs = []\n",
    "\n",
    "def get_information(client, bot):\n",
    "    chatId = client.get_chat_history(bot=bot)[\"data\"][bot][0]['chatId']\n",
    "    chatCode = client.get_chat_history(bot=bot)[\"data\"][bot][0]['chatCode']\n",
    "    id = client.get_chat_history(bot=bot)[\"data\"][bot][0]['id']\n",
    "    title = client.get_chat_history(bot=bot)[\"data\"][bot][0]['title']\n",
    "    return chatId, chatCode, id, title\n",
    "\n",
    "def inference(client, bot, prompt, chatId=None):\n",
    "    for chunk in client.send_message(bot, message=prompt, chatId=chatId):\n",
    "        pass\n",
    "    return chunk[\"text\"], chunk[\"chatCode\"], chunk[\"chatId\"]"
   ]
  },
  {
   "cell_type": "code",
   "execution_count": 3,
   "metadata": {},
   "outputs": [
    {
     "name": "stderr",
     "output_type": "stream",
     "text": [
      "2024-03-15 17:41:45.334 | ERROR    | poe_api_wrapper.api:create_bot:1229 - Poe returned an error while trying to create a bot: handle_already_taken\n"
     ]
    }
   ],
   "source": [
    "client.create_bot(\"kpqa\", \" \", base_model=bot_gemini)\n",
    "chatId = None\n",
    "chatIdSet = set()"
   ]
  },
  {
   "cell_type": "code",
   "execution_count": 4,
   "metadata": {},
   "outputs": [],
   "source": [
    "def inference_loop(client, bot, prompts, ids, chatId, counter):\n",
    "    prompts = prompts[counter:]\n",
    "    ids = ids[counter:]\n",
    "\n",
    "    for i, prompt in enumerate(prompts):\n",
    "        output, chatCode, chatId = inference(client, bot, prompt, chatId=chatId)\n",
    "        outputs.append({\"id\": ids[i], \"prompt\": prompt, \"output\": output})\n",
    "        print(f\"ID: {ids[i]}, Output: {output}\")\n",
    "        time.sleep(2)"
   ]
  },
  {
   "cell_type": "code",
   "execution_count": 5,
   "metadata": {},
   "outputs": [
    {
     "name": "stdout",
     "output_type": "stream",
     "text": [
      "New Loop, counter: 0\n"
     ]
    },
    {
     "name": "stderr",
     "output_type": "stream",
     "text": [
      "2024-03-15 17:42:23.375 | INFO     | poe_api_wrapper.api:send_message:760 - New Thread created | 24kl1shcmyn1jm2w6d7\n"
     ]
    },
    {
     "name": "stdout",
     "output_type": "stream",
     "text": [
      "ID: B-2_1, Output: Yes\n",
      "ID: B-2_2, Output: Yes\n",
      "ID: B-2_3, Output: Yes\n",
      "ID: B-2_4, Output: Yes\n",
      "ID: B-2_5, Output: Yes\n",
      "ID: B-2_6, Output: Yes\n",
      "ID: B-2_7, Output: Yes\n",
      "ID: B-2_8, Output: Yes\n",
      "ID: B-2_9, Output: Yes\n",
      "ID: B-2_10, Output: Yes\n",
      "ID: B-2_11, Output: Yes\n",
      "ID: B-2_12, Output: Yes\n",
      "ID: B-2_13, Output: Yes\n",
      "ID: B-2_14, Output: Yes\n",
      "ID: B-2_15, Output: Yes\n",
      "ID: B-2_16, Output: Yes\n",
      "ID: B-2_17, Output: Yes\n",
      "ID: B-2_18, Output: Yes\n",
      "ID: B-2_19, Output: Yes\n",
      "Exception happened, waiting 30 seconds and trying again.\n",
      "New Loop, counter: 19\n"
     ]
    },
    {
     "name": "stderr",
     "output_type": "stream",
     "text": [
      "2024-03-15 17:44:19.989 | INFO     | poe_api_wrapper.api:send_message:760 - New Thread created | 24klw5xha7pbpuf9bjh\n"
     ]
    },
    {
     "name": "stdout",
     "output_type": "stream",
     "text": [
      "ID: B-2_20, Output: Yes\n",
      "ID: B-2_21, Output: Yes\n",
      "ID: B-2_22, Output: Yes\n",
      "ID: B-2_23, Output: Yes\n",
      "ID: B-2_24, Output: Yes\n",
      "ID: B-2_25, Output: Yes\n",
      "ID: B-2_26, Output: Yes\n",
      "ID: B-2_27, Output: Yes\n",
      "ID: B-2_28, Output: Yes\n",
      "ID: B-2_29, Output: Yes\n",
      "ID: B-2_30, Output: Yes\n",
      "ID: B-2_31, Output: Yes\n",
      "ID: B-2_32, Output: Yes\n",
      "ID: B-2_33, Output: Yes\n",
      "ID: B-2_34, Output: Yes\n",
      "ID: B-2_35, Output: No\n",
      "ID: B-2_36, Output: Yes\n",
      "ID: B-2_37, Output: Yes\n",
      "ID: B-2_38, Output: Yes\n",
      "ID: B-2_39, Output: Yes\n",
      "Exception happened, waiting 30 seconds and trying again.\n",
      "New Loop, counter: 39\n"
     ]
    },
    {
     "name": "stderr",
     "output_type": "stream",
     "text": [
      "2024-03-15 17:46:20.613 | INFO     | poe_api_wrapper.api:send_message:760 - New Thread created | 24klnf8qw6mgtqqus69\n"
     ]
    },
    {
     "name": "stdout",
     "output_type": "stream",
     "text": [
      "ID: B-2_40, Output: Yes\n",
      "ID: B-2_41, Output: Yes\n",
      "ID: B-2_42, Output: Yes\n",
      "ID: B-2_43, Output: Yes\n",
      "ID: B-2_44, Output: Yes\n",
      "ID: B-2_45, Output: Yes\n",
      "ID: B-2_46, Output: Yes\n",
      "ID: B-2_47, Output: Yes\n",
      "ID: B-2_48, Output: Yes\n",
      "ID: B-2_49, Output: Yes\n",
      "ID: B-2_50, Output: Yes\n",
      "ID: B-2_51, Output: Yes\n",
      "ID: B-2_52, Output: Yes\n",
      "ID: B-2_53, Output: Yes\n",
      "ID: B-2_54, Output: Yes\n",
      "ID: B-2_55, Output: Yes\n",
      "ID: B-2_56, Output: Yes\n",
      "ID: B-2_57, Output: Yes\n",
      "ID: B-2_58, Output: Yes\n",
      "ID: B-2_59, Output: Yes\n",
      "Exception happened, waiting 30 seconds and trying again.\n",
      "New Loop, counter: 59\n"
     ]
    },
    {
     "name": "stderr",
     "output_type": "stream",
     "text": [
      "2024-03-15 17:48:22.475 | INFO     | poe_api_wrapper.api:send_message:760 - New Thread created | 24klv51alo1h046bq2b\n"
     ]
    },
    {
     "name": "stdout",
     "output_type": "stream",
     "text": [
      "ID: B-2_60, Output: Yes\n",
      "ID: B-2_61, Output: Yes\n",
      "ID: B-2_62, Output: Yes\n",
      "ID: B-2_63, Output: Yes\n",
      "ID: B-2_64, Output: Yes\n",
      "ID: B-2_65, Output: Yes\n",
      "ID: B-2_66, Output: No\n",
      "ID: B-2_67, Output: No\n",
      "ID: B-2_68, Output: No\n",
      "ID: B-2_69, Output: No\n",
      "ID: B-2_70, Output: No\n",
      "ID: B-2_71, Output: No\n",
      "ID: B-2_72, Output: No\n",
      "ID: B-2_73, Output: No\n",
      "ID: B-2_74, Output: No\n",
      "ID: B-2_75, Output: No\n",
      "ID: B-2_76, Output: No\n",
      "ID: B-2_77, Output: No\n",
      "ID: B-2_78, Output: Yes\n",
      "ID: B-2_79, Output: No\n",
      "Exception happened, waiting 30 seconds and trying again.\n",
      "New Loop, counter: 79\n"
     ]
    },
    {
     "name": "stderr",
     "output_type": "stream",
     "text": [
      "2024-03-15 17:50:22.841 | INFO     | poe_api_wrapper.api:send_message:760 - New Thread created | 24kjuxqyvsp7d83rt2a\n"
     ]
    },
    {
     "name": "stdout",
     "output_type": "stream",
     "text": [
      "ID: B-2_80, Output: No\n",
      "ID: B-2_81, Output: No\n",
      "ID: B-2_82, Output: No\n",
      "ID: B-2_83, Output: No\n",
      "ID: B-2_84, Output: No\n",
      "ID: B-2_85, Output: No\n",
      "ID: B-2_86, Output: No\n",
      "ID: B-2_87, Output: No\n",
      "ID: B-2_88, Output: No\n",
      "ID: B-2_89, Output: No\n",
      "ID: B-2_90, Output: No\n",
      "ID: B-2_91, Output: No\n",
      "ID: B-2_92, Output: No\n",
      "ID: B-2_93, Output: No\n",
      "ID: B-2_94, Output: No\n",
      "ID: B-2_95, Output: No\n",
      "ID: B-2_96, Output: No\n",
      "ID: B-2_97, Output: No\n",
      "ID: B-2_98, Output: No\n",
      "ID: B-2_99, Output: No\n",
      "Exception happened, waiting 30 seconds and trying again.\n",
      "New Loop, counter: 99\n"
     ]
    },
    {
     "name": "stderr",
     "output_type": "stream",
     "text": [
      "2024-03-15 17:52:22.823 | INFO     | poe_api_wrapper.api:send_message:760 - New Thread created | 24kk0475o9gg8y74bpj\n"
     ]
    },
    {
     "name": "stdout",
     "output_type": "stream",
     "text": [
      "ID: B-2_100, Output: No\n",
      "ID: B-2_101, Output: No\n",
      "ID: B-2_102, Output: No\n",
      "ID: B-2_103, Output: No\n",
      "ID: B-2_104, Output: No\n",
      "ID: B-2_105, Output: No\n",
      "ID: B-2_106, Output: No\n",
      "ID: B-2_107, Output: No\n",
      "ID: B-2_108, Output: No\n",
      "ID: B-2_109, Output: No\n",
      "ID: B-2_110, Output: No\n",
      "ID: B-2_111, Output: No\n",
      "ID: B-2_112, Output: No\n",
      "ID: B-2_113, Output: No\n",
      "ID: B-2_114, Output: No\n",
      "ID: B-2_115, Output: No\n",
      "ID: B-2_116, Output: No\n",
      "ID: B-2_117, Output: No\n",
      "ID: B-2_118, Output: No\n",
      "Exception happened, waiting 30 seconds and trying again.\n",
      "New Loop, counter: 118\n"
     ]
    },
    {
     "name": "stderr",
     "output_type": "stream",
     "text": [
      "2024-03-15 17:54:20.606 | INFO     | poe_api_wrapper.api:send_message:760 - New Thread created | 24kjk69xndsbsfllkcg\n"
     ]
    },
    {
     "name": "stdout",
     "output_type": "stream",
     "text": [
      "ID: B-2_119, Output: No\n",
      "ID: B-2_120, Output: No\n",
      "ID: B-2_121, Output: No\n",
      "ID: B-2_122, Output: No\n",
      "ID: B-2_123, Output: No\n",
      "ID: B-2_124, Output: No\n",
      "ID: B-2_125, Output: No\n",
      "ID: B-2_126, Output: No\n"
     ]
    }
   ],
   "source": [
    "while len(outputs) < len(prompts):\n",
    "    try:\n",
    "        counter = len(outputs)\n",
    "        print(f\"New Loop, counter: {counter}\")\n",
    "        inference_loop(client, bot, prompts, ids, chatId, counter)\n",
    "        if chatId:\n",
    "            chatIdSet.add(chatId)\n",
    "    except Exception as e:\n",
    "        print(\"Exception happened, waiting 30 seconds and trying again.\")\n",
    "        time.sleep(30)\n",
    "        continue"
   ]
  },
  {
   "cell_type": "code",
   "execution_count": 11,
   "metadata": {},
   "outputs": [
    {
     "ename": "NameError",
     "evalue": "name 'chatIdSet' is not defined",
     "output_type": "error",
     "traceback": [
      "\u001b[1;31m---------------------------------------------------------------------------\u001b[0m",
      "\u001b[1;31mNameError\u001b[0m                                 Traceback (most recent call last)",
      "Cell \u001b[1;32mIn[11], line 3\u001b[0m\n\u001b[0;32m      1\u001b[0m \u001b[38;5;28;01mif\u001b[39;00m \u001b[38;5;28mlen\u001b[39m(outputs) \u001b[38;5;241m!=\u001b[39m \u001b[38;5;28mlen\u001b[39m(prompts):\n\u001b[0;32m      2\u001b[0m     \u001b[38;5;28;01mraise\u001b[39;00m \u001b[38;5;167;01mValueError\u001b[39;00m(\u001b[38;5;124m\"\u001b[39m\u001b[38;5;124mLength of outputs does not match length of prompts.\u001b[39m\u001b[38;5;124m\"\u001b[39m)\n\u001b[1;32m----> 3\u001b[0m \u001b[38;5;28;01mfor\u001b[39;00m \u001b[38;5;28mid\u001b[39m \u001b[38;5;129;01min\u001b[39;00m \u001b[38;5;28mlist\u001b[39m(\u001b[43mchatIdSet\u001b[49m):\n\u001b[0;32m      4\u001b[0m     client\u001b[38;5;241m.\u001b[39mdelete_chat(bot\u001b[38;5;241m=\u001b[39mbot, chatId\u001b[38;5;241m=\u001b[39m\u001b[38;5;28mid\u001b[39m)\n",
      "\u001b[1;31mNameError\u001b[0m: name 'chatIdSet' is not defined"
     ]
    }
   ],
   "source": [
    "for id in list(chatIdSet):\n",
    "    client.delete_chat(bot=bot, chatId=id)"
   ]
  },
  {
   "cell_type": "code",
   "execution_count": 7,
   "metadata": {},
   "outputs": [],
   "source": [
    "with open(output_file, \"w\") as f:\n",
    "    json.dump(outputs, f, indent=4, sort_keys=True)"
   ]
  }
 ],
 "metadata": {
  "kernelspec": {
   "display_name": "usda",
   "language": "python",
   "name": "python3"
  },
  "language_info": {
   "codemirror_mode": {
    "name": "ipython",
    "version": 3
   },
   "file_extension": ".py",
   "mimetype": "text/x-python",
   "name": "python",
   "nbconvert_exporter": "python",
   "pygments_lexer": "ipython3",
   "version": "3.9.18"
  }
 },
 "nbformat": 4,
 "nbformat_minor": 2
}
